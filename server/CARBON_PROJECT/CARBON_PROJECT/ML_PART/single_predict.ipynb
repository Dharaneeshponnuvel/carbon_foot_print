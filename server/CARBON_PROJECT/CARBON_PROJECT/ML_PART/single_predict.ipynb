{
 "cells": [
  {
   "cell_type": "code",
   "execution_count": 1,
   "id": "daf5c2ea",
   "metadata": {},
   "outputs": [],
   "source": [
    "import pandas as pd\n",
    "import joblib"
   ]
  },
  {
   "cell_type": "code",
   "execution_count": 2,
   "id": "319c6de1",
   "metadata": {},
   "outputs": [],
   "source": [
    "user_input = {}\n",
    "\n",
    "user_input['Body Type'] = input(\"Enter Body Type: \")\n",
    "user_input['Sex'] = input(\"Enter Sex: \")\n",
    "user_input['Diet'] = input(\"Enter Diet: \")\n",
    "user_input['How Often Shower'] = input(\"Enter How Often Shower: \")\n",
    "user_input['Heating Energy Source'] = input(\"Enter Heating Energy Source: \")\n",
    "user_input['Transport'] = input(\"Enter Transport: \")\n",
    "user_input['Vehicle Type'] = input(\"Enter Vehicle Type: \")\n",
    "user_input['Social Activity'] = input(\"Enter Social Activity: \")\n",
    "\n",
    "user_input['Monthly Grocery Bill'] = float(input(\"Enter Monthly Grocery Bill: \"))\n",
    "user_input['Frequency of Traveling by Air'] = input(\"Enter Frequency of Traveling by Air: \")\n",
    "user_input['Vehicle Monthly Distance Km'] = float(input(\"Enter Vehicle Monthly Distance Km: \"))\n",
    "user_input['Waste Bag Size'] = input(\"Enter Waste Bag Size: \")\n",
    "user_input['Waste Bag Weekly Count'] = int(input(\"Enter Waste Bag Weekly Count: \"))\n",
    "user_input['How Long TV PC Daily Hour'] = int(input(\"Enter How Long TV PC Daily Hour: \"))\n",
    "user_input['How Many New Clothes Monthly'] = int(input(\"Enter How Many New Clothes Monthly: \"))\n",
    "user_input['How Long Internet Daily Hour'] = int(input(\"Enter How Long Internet Daily Hour: \"))\n",
    "user_input['Energy efficiency'] = input(\"Enter Energy Efficiency: \")"
   ]
  },
  {
   "cell_type": "code",
   "execution_count": 3,
   "id": "58ccea2f",
   "metadata": {},
   "outputs": [
    {
     "name": "stdout",
     "output_type": "stream",
     "text": [
      "\n",
      "--- Your Input Summary ---\n",
      "Body Type: normal\n",
      "Sex: male\n",
      "Diet: vegetarien\n",
      "How Often Shower: frequently\n",
      "Heating Energy Source: coal\n",
      "Transport: bike\n",
      "Vehicle Type: petrol\n",
      "Social Activity: frequently\n",
      "Monthly Grocery Bill: 345.0\n",
      "Frequency of Traveling by Air: very frequently\n",
      "Vehicle Monthly Distance Km: 12300.0\n",
      "Waste Bag Size: 10\n",
      "Waste Bag Weekly Count: 50\n",
      "How Long TV PC Daily Hour: 50\n",
      "How Many New Clothes Monthly: 50\n",
      "How Long Internet Daily Hour: 50\n",
      "Energy efficiency: no\n"
     ]
    }
   ],
   "source": [
    "# ---------------- Display Inputs -----------------\n",
    "\n",
    "print(\"\\n--- Your Input Summary ---\")\n",
    "for k, v in user_input.items():\n",
    "    print(f\"{k}: {v}\")"
   ]
  },
  {
   "cell_type": "code",
   "execution_count": 4,
   "id": "f0b5c4be",
   "metadata": {},
   "outputs": [
    {
     "name": "stdout",
     "output_type": "stream",
     "text": [
      "\n",
      " >>> Predicted Carbon Emission: 6941.05\n"
     ]
    }
   ],
   "source": [
    "\n",
    "input_df = pd.DataFrame([user_input])\n",
    "\n",
    "encoder = joblib.load(\"model/encoder.pkl\")\n",
    "model = joblib.load(\"model/carbon_model.pkl\")\n",
    "\n",
    "X_encoded = encoder.transform(input_df)\n",
    "prediction = model.predict(X_encoded)[0]\n",
    "\n",
    "print(f\"\\n >>> Predicted Carbon Emission: {prediction:.2f}\")"
   ]
  }
 ],
 "metadata": {
  "kernelspec": {
   "display_name": "Python 3",
   "language": "python",
   "name": "python3"
  },
  "language_info": {
   "codemirror_mode": {
    "name": "ipython",
    "version": 3
   },
   "file_extension": ".py",
   "mimetype": "text/x-python",
   "name": "python",
   "nbconvert_exporter": "python",
   "pygments_lexer": "ipython3",
   "version": "3.11.0"
  }
 },
 "nbformat": 4,
 "nbformat_minor": 5
}
